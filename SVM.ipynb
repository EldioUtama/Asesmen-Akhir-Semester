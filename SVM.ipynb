{
  "nbformat": 4,
  "nbformat_minor": 0,
  "metadata": {
    "colab": {
      "provenance": [],
      "authorship_tag": "ABX9TyOad6bUHLi+L60IKvyhQFGy",
      "include_colab_link": true
    },
    "kernelspec": {
      "name": "python3",
      "display_name": "Python 3"
    },
    "language_info": {
      "name": "python"
    }
  },
  "cells": [
    {
      "cell_type": "markdown",
      "metadata": {
        "id": "view-in-github",
        "colab_type": "text"
      },
      "source": [
        "<a href=\"https://colab.research.google.com/github/EldioUtama/Asesmen-Akhir-Semester/blob/main/SVM.ipynb\" target=\"_parent\"><img src=\"https://colab.research.google.com/assets/colab-badge.svg\" alt=\"Open In Colab\"/></a>"
      ]
    },
    {
      "cell_type": "code",
      "execution_count": 2,
      "metadata": {
        "colab": {
          "base_uri": "https://localhost:8080/"
        },
        "id": "xj4eXkKnf11c",
        "outputId": "24970f3f-f668-48aa-c97f-96f11b4fa43c"
      },
      "outputs": [
        {
          "output_type": "stream",
          "name": "stdout",
          "text": [
            "Accuracy: 0.8625\n",
            "              precision    recall  f1-score   support\n",
            "\n",
            "     Berdiri       0.82      0.94      0.87        80\n",
            "       Duduk       0.93      0.79      0.85        80\n",
            "\n",
            "    accuracy                           0.86       160\n",
            "   macro avg       0.87      0.86      0.86       160\n",
            "weighted avg       0.87      0.86      0.86       160\n",
            "\n",
            "[[75  5]\n",
            " [17 63]]\n"
          ]
        }
      ],
      "source": [
        "import pandas as pd\n",
        "from sklearn.model_selection import train_test_split\n",
        "from sklearn.svm import SVC\n",
        "from sklearn.metrics import accuracy_score, classification_report, confusion_matrix\n",
        "\n",
        "# Membaca dataset\n",
        "df = pd.read_csv('Dataset duduk berdiri.csv')\n",
        "\n",
        "# Mengelompokkan fitur dan target\n",
        "X = df[['ax', 'ay', 'az']]\n",
        "y = df['Gerakan']\n",
        "\n",
        "# Pisah latih dan uji\n",
        "X_train, X_test, y_train, y_test = train_test_split(X, y, test_size=0.4, random_state=0)\n",
        "\n",
        "# Buat model SVM\n",
        "svm = SVC()\n",
        "\n",
        "# Pelatihan model\n",
        "svm.fit(X_train, y_train)\n",
        "\n",
        "# Prediksi\n",
        "y_pred = svm.predict(X_test)\n",
        "\n",
        "# Evaluasi kinerja\n",
        "print('Accuracy: {}'.format(accuracy_score(y_test, y_pred)))\n",
        "print(classification_report(y_test, y_pred))\n",
        "print(confusion_matrix(y_test, y_pred))"
      ]
    }
  ]
}